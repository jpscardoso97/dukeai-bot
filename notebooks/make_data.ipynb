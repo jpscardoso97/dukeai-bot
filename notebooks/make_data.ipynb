{
 "cells": [
  {
   "cell_type": "code",
   "execution_count": 1,
   "metadata": {},
   "outputs": [],
   "source": [
    "pages = [\n",
    "    'https://ai.meng.duke.edu/faculty/jon-reifschneider', \n",
    "    'https://ai.meng.duke.edu/faculty/brinnae-bent', \n",
    "    'https://ai.meng.duke.edu/faculty/xu-chen', \n",
    "    'https://ai.meng.duke.edu/faculty/alfredo-deza', \n",
    "    'https://ai.meng.duke.edu/faculty/noah-gift', \n",
    "    'https://ai.meng.duke.edu/faculty/wann-jiun-ma', \n",
    "    'https://ai.meng.duke.edu/faculty/pramod-singh', \n",
    "    'https://ai.meng.duke.edu/faculty/natalia-summerville', \n",
    "    'https://ai.meng.duke.edu/faculty/theodore-ryan', \n",
    "    'https://ai.meng.duke.edu/faculty/richard-telford', \n",
    "    'https://ai.meng.duke.edu/faculty/jeffrey-ward'\n",
    "    \"https://ai.meng.duke.edu/courses\",\n",
    "    \"https://ai.meng.duke.edu\",\n",
    "    \"https://ai.meng.duke.edu/news/new-masters-degree-applies-ai-product-innovation\",\n",
    "    \"https://ai.meng.duke.edu/news/using-ai-teach-ai-dukes-master-engineering-degree-program\",\n",
    "    \"https://ai.meng.duke.edu/news/dukes-new-masters-degree-applies-ai-product-innovation\",\n",
    "    \"https://ai.meng.duke.edu/news/where-are-stem-jobs-north-carolinas-charlotte-no-1-and-raleigh-no-5-new-index\",\n",
    "    \"https://ai.meng.duke.edu/news/shining-spotlight-shyamal-anadkat22\",\n",
    "    \"https://ai.meng.duke.edu/news/shining-spotlight-eduardo-martinez\",\n",
    "    \"https://ai.meng.duke.edu/courses#program-preparation\",\n",
    "    \"https://ai.meng.duke.edu/why-duke/graduate-outcomes\",\n",
    "    \"https://ai.meng.duke.edu/courses#capstone\",\n",
    "    \"https://ai.meng.duke.edu/courses#pre-program\",\n",
    "    \"https://ai.meng.duke.edu/courses#technical-core\",\n",
    "    \"https://ai.meng.duke.edu/courses#management-core\",\n",
    "    \"https://ai.meng.duke.edu/courses#operations-core\",\n",
    "    \"https://ai.meng.duke.edu/courses#electives\",\n",
    "    \"https://ai.meng.duke.edu/news/shining-spotlight-diarra-bell\",\n",
    "    \"https://ai.meng.duke.edu/why-duke/difference\",\n",
    "    \"https://ai.meng.duke.edu/\",\n",
    "    \"https://ai.meng.duke.edu/industry\",\n",
    "    \"https://ai.meng.duke.edu/leadership\",\n",
    "    \"https://ai.meng.duke.edu/news\",\n",
    "    \"https://ai.meng.duke.edu/contact\",\n",
    "    \"https://ai.meng.duke.edu/why-duke\",\n",
    "    \"https://ai.meng.duke.edu/why-duke/career-services\",\n",
    "    \"https://ai.meng.duke.edu/why-duke/tech-leaders\",\n",
    "    \"https://ai.meng.duke.edu/degree\",\n",
    "    \"https://ai.meng.duke.edu/certificate\",\n",
    "    \"https://ai.meng.duke.edu/faculty\",\n",
    "    \"https://ai.meng.duke.edu/apply\"\n",
    "]"
   ]
  },
  {
   "cell_type": "code",
   "execution_count": 2,
   "metadata": {},
   "outputs": [
    {
     "ename": "ModuleNotFoundError",
     "evalue": "No module named 'bs4'",
     "output_type": "error",
     "traceback": [
      "\u001b[0;31m---------------------------------------------------------------------------\u001b[0m",
      "\u001b[0;31mModuleNotFoundError\u001b[0m                       Traceback (most recent call last)",
      "Cell \u001b[0;32mIn[2], line 3\u001b[0m\n\u001b[1;32m      1\u001b[0m \u001b[38;5;66;03m# Data sourcing and cleaning\u001b[39;00m\n\u001b[1;32m      2\u001b[0m \u001b[38;5;28;01mimport\u001b[39;00m \u001b[38;5;21;01mrequests\u001b[39;00m\n\u001b[0;32m----> 3\u001b[0m \u001b[38;5;28;01mfrom\u001b[39;00m \u001b[38;5;21;01mbs4\u001b[39;00m \u001b[38;5;28;01mimport\u001b[39;00m BeautifulSoup\n\u001b[1;32m      4\u001b[0m \u001b[38;5;28;01mimport\u001b[39;00m \u001b[38;5;21;01mjson\u001b[39;00m\n\u001b[1;32m      5\u001b[0m \u001b[38;5;28;01mimport\u001b[39;00m \u001b[38;5;21;01mre\u001b[39;00m\n",
      "\u001b[0;31mModuleNotFoundError\u001b[0m: No module named 'bs4'"
     ]
    }
   ],
   "source": [
    "# Data sourcing and cleaning\n",
    "import requests\n",
    "from bs4 import BeautifulSoup\n",
    "import re\n",
    "\n",
    "for page in pages:\n",
    "    page = requests.get(page)\n",
    "    soup = BeautifulSoup(page.content, 'html.parser')\n",
    "    content = soup.find('div', id='content-body')\n",
    "    data = content.get_text()\n",
    "    data = re.sub(r'\\n\\n', '\\n', data)\n",
    "    filename = page.url.split('/')[-1]\n",
    "    with open(f'../data/raw/{filename}.txt', 'w') as f:\n",
    "        f.write(data)\n"
   ]
  },
  {
   "cell_type": "code",
   "execution_count": null,
   "metadata": {},
   "outputs": [],
   "source": []
  }
 ],
 "metadata": {
  "kernelspec": {
   "display_name": "Python 3",
   "language": "python",
   "name": "python3"
  },
  "language_info": {
   "codemirror_mode": {
    "name": "ipython",
    "version": 3
   },
   "file_extension": ".py",
   "mimetype": "text/x-python",
   "name": "python",
   "nbconvert_exporter": "python",
   "pygments_lexer": "ipython3",
   "version": "3.11.7"
  }
 },
 "nbformat": 4,
 "nbformat_minor": 2
}
